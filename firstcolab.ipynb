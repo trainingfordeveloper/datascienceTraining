{
  "nbformat": 4,
  "nbformat_minor": 0,
  "metadata": {
    "colab": {
      "provenance": [],
      "authorship_tag": "ABX9TyOnwOVFOIdyD6wRkwzqnCJg",
      "include_colab_link": true
    },
    "kernelspec": {
      "name": "python3",
      "display_name": "Python 3"
    },
    "language_info": {
      "name": "python"
    }
  },
  "cells": [
    {
      "cell_type": "markdown",
      "metadata": {
        "id": "view-in-github",
        "colab_type": "text"
      },
      "source": [
        "<a href=\"https://colab.research.google.com/github/trainingfordeveloper/datascienceTraining/blob/main/firstcolab.ipynb\" target=\"_parent\"><img src=\"https://colab.research.google.com/assets/colab-badge.svg\" alt=\"Open In Colab\"/></a>"
      ]
    },
    {
      "cell_type": "code",
      "execution_count": null,
      "metadata": {
        "id": "1elj5tXq_zGV"
      },
      "outputs": [],
      "source": [
        "import pydrive"
      ]
    },
    {
      "cell_type": "code",
      "source": [
        "from pydrive.auth import GoogleAuth\n",
        "from pydrive.drive import GoogleDrive\n",
        "from google.colab import auth\n",
        "from oauth2client.client import GoogleCredentials"
      ],
      "metadata": {
        "id": "wS3ppmF2_2SO"
      },
      "execution_count": null,
      "outputs": []
    },
    {
      "cell_type": "code",
      "source": [
        "# Authorization to access the google drive, you will copy a link and extract id\n",
        "auth.authenticate_user()\n",
        "gauth = GoogleAuth()\n",
        "gauth.credentials = GoogleCredentials.get_application_default()\n",
        "drive = GoogleDrive(gauth)"
      ],
      "metadata": {
        "id": "YGnuJHxEAMo9"
      },
      "execution_count": null,
      "outputs": []
    },
    {
      "cell_type": "code",
      "source": [],
      "metadata": {
        "id": "KqZQDdjnC0si"
      },
      "execution_count": null,
      "outputs": []
    },
    {
      "cell_type": "code",
      "source": [
        "# \n",
        "filedownloaded = drive.CreateFile({'id':'1ch5I16jqGRPsPzpzylby-UUrIER-D2iV'})"
      ],
      "metadata": {
        "id": "tLo76d9HAPpe"
      },
      "execution_count": null,
      "outputs": []
    },
    {
      "cell_type": "code",
      "source": [],
      "metadata": {
        "id": "8Pc4Dq7eC1Mj"
      },
      "execution_count": null,
      "outputs": []
    },
    {
      "cell_type": "code",
      "source": [
        "file_list = drive.ListFile({'q': \"'{}' in parents and trashed=false\".format('1ch5I16jqGRPsPzpzylby-UUrIER-D2iV')}).GetList()\n",
        "for file in file_list:\n",
        "\tprint('title: %s, id: %s' % (file['title'], file['id']))"
      ],
      "metadata": {
        "colab": {
          "base_uri": "https://localhost:8080/"
        },
        "id": "Qn1kenSRcs9L",
        "outputId": "aa663639-bd7d-4879-b263-230fe05e15cc"
      },
      "execution_count": null,
      "outputs": [
        {
          "output_type": "stream",
          "name": "stdout",
          "text": [
            "title: test.txt, id: 1vwgzIm1p7wi6Tei1Yd6zalyORwjn6nKG\n"
          ]
        }
      ]
    },
    {
      "cell_type": "code",
      "source": [
        "for i, file in enumerate(sorted(file_list, key = lambda x: x['title']), start=1):\n",
        "\tprint('Downloading {} file from GDrive ({}/{})'.format(file['title'], i, len(file_list)))\n",
        "\tfile.GetContentFile(file['title'])"
      ],
      "metadata": {
        "id": "5uF8Ls0IdA5m"
      },
      "execution_count": null,
      "outputs": []
    },
    {
      "cell_type": "code",
      "source": [
        "upload_file_list = ['test1.txt']"
      ],
      "metadata": {
        "id": "VbJAGw4heHvk"
      },
      "execution_count": null,
      "outputs": []
    },
    {
      "cell_type": "code",
      "source": [
        "for upload_file in upload_file_list:\n",
        "\tgfile = drive.CreateFile({'parents': [{'id': '1ch5I16jqGRPsPzpzylby-UUrIER-D2iV'}]})\n",
        "\t# Read file and set it as the content of this instance.\n",
        "\tgfile.SetContentFile(upload_file)\n",
        "\tgfile.Upload() # Upload the file."
      ],
      "metadata": {
        "id": "Ufd6WAesbCr4"
      },
      "execution_count": null,
      "outputs": []
    },
    {
      "cell_type": "code",
      "source": [],
      "metadata": {
        "id": "GrHjE8cS6oeB"
      },
      "execution_count": null,
      "outputs": []
    },
    {
      "cell_type": "code",
      "source": [
        "upload_file_list = ['colab.txt']"
      ],
      "metadata": {
        "id": "7vlv5tv_gKhA"
      },
      "execution_count": null,
      "outputs": []
    },
    {
      "cell_type": "code",
      "source": [
        "for upload_file in upload_file_list:\n",
        "\tgfile = drive.CreateFile({'parents': [{'id': '1N-H2-qmvKnvVFZa0UXnm3ubvGspVQqtR'}]})\n",
        "\t# Read file and set it as the content of this instance.\n",
        "\tgfile.SetContentFile(upload_file)\n",
        "\tgfile.Upload() # Upload the file.\n"
      ],
      "metadata": {
        "id": "QebXl_E1bSAQ"
      },
      "execution_count": null,
      "outputs": []
    },
    {
      "cell_type": "code",
      "source": [],
      "metadata": {
        "id": "6LrBSh5EgbMQ"
      },
      "execution_count": null,
      "outputs": []
    },
    {
      "cell_type": "markdown",
      "source": [],
      "metadata": {
        "id": "NyaRtQW66nbT"
      }
    }
  ]
}