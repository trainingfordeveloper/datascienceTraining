{
 "cells": [
  {
   "cell_type": "markdown",
   "metadata": {},
   "source": [
    "## Report: act_report\n",
    "* Create a **250-word-minimum written report** called \"act_report.pdf\" or \"act_report.html\" that communicates the insights and displays the visualization(s) produced from your wrangled data. This is to be framed as an external document, like a blog post or magazine article, for example."
   ]
  },
  {
   "cell_type": "markdown",
   "metadata": {},
   "source": [
    "<a id='intro'></a>\n",
    "## Introduction\n",
    "\n",
    "### Dataset Description \n",
    ">This dataset collects information from three twitter data archive : **twitter_archive_enhanced.csv** contains basic tweet data, then an additional Data via the Twitter API **tweet_json.txt** collecting retweet count and favorite count and the **image_predictions.tsv** that can classify breeds of dogs.\n",
    "<br>A number of characteristics about those dataset are included in each column.\n",
    "\n",
    "#### twitter_archive_enhanced.csv contains columns below:\n",
    "- tweet_id                   \n",
    "- in_reply_to_status_id         \n",
    "- in_reply_to_user_id           \n",
    "- timestamp                     \n",
    "- source                       \n",
    "- text                          \n",
    "- retweeted_status_id           \n",
    "- retweeted_status_user_id      \n",
    "- retweeted_status_timestamp   \n",
    "- expanded_urls                 \n",
    "- rating_numerator              \n",
    "- rating_denominator            \n",
    "- name                          \n",
    "- doggo                        \n",
    "- floofer                       \n",
    "- pupper                      \n",
    "- puppo                \n",
    "\n",
    "\n",
    "#### tweet_json.txt collect informtion related to:\n",
    "- tweet_id\n",
    "- retweet count \n",
    "- favorite count \n",
    "\n",
    "##### image_predictions.tsv file\n",
    "- **tweet_id** is the last part of the tweet URL after \"status/\" \n",
    "- **p1** is the algorithm's #1 prediction for the image in the tweet \n",
    "- **p1_conf** is how confident the algorithm is in its #1 prediction \n",
    "- **p1_dog** is whether or not the #1 prediction is a breed of dog \n",
    "- **p2** is the algorithm's second most likely prediction \n",
    "- **p2_conf** is how confident the algorithm is in its #2 prediction \n",
    "- **p2_dog** is whether or not the #2 prediction is a breed of dog \n",
    "- **p3** is the algorithm's second most likely prediction \n",
    "- **p3_conf** is how confident the algorithm is in its #3 prediction \n",
    "- **p3_dog** is whether or not the #3 prediction is a breed of dog \n",
    "\n",
    "### Question(s) for Analysis\n",
    "\n",
    ">1. Is there any correlation between variables ?\n",
    "2. How efficient is the dog breed prediction method ?\n",
    "3. Is there any difference between distributions of false prediction of dog breed and true prediction of dog breed ?\n",
    "\n",
    "### Method of analysis\n",
    "\n",
    ">#### Assessing \n",
    "Assessing the three data by visualization and programming using python and pandas libraries to find out all quality and tidiness issues.\n",
    ">#### Cleaning\n",
    "Clean all the quality and tidiness issue the data using python and pandas libraries to be ready for better analysis.\n",
    ">#### Exploring\n",
    "Check for attributes relationship by visualization using matplolib, pandas and python libraries\n",
    "\n",
    "### Conclusion\n",
    "\n",
    "> Below are some results and limitations of our analysis.\n",
    "\n",
    "> **Results:**\n",
    ">#### correlation between variables\n",
    "There are some positive and negative correlation between variables :\n",
    "1. Positive correlation between retweet count and favorite count.\n",
    "2. Positive correlation between p1_conf and favorite count.\n",
    "3. Positive correlation between p1_conf and retweet_count.\n",
    "4. Negative correlation between p2_conf and favorite count.\n",
    "5. Negative correlation between p2_conf and retweet_count.\n",
    "6. Negative correlation between p3_conf and favorite count.\n",
    "7. Negative correlation between p3_conf and retweet_count.\n",
    "8. Positive correlation between rating_numerator and favorite_count.\n",
    "9. Positive correlation between rating_numerator and retweet_count.\n",
    "\n",
    ">#### percentage of dog breed prediction\n",
    "10.  The dog breed prediction method is  efficient is due to the Lower percentage of false prediction of dog breed compared to true prediction of dog breed.\n",
    "\n",
    ">#### dog breed prediction distribution\n",
    "11. No big difference between distributions of false prediction of dog breed and true prediction of dog breed:\n",
    "\n",
    ">**Limitations:**\n",
    "1. stage (doggo, floofer, pupper, puppo) missing values:may be we need another source of data to fill those missing values. \n",
    "2. rating numerator less than 10:we do not have enough information if we should keep or discard them.\n",
    "3. duplicated, missing and incorrect names:may be we need another source of data to fill those missing values. \n",
    "\n"
   ]
  },
  {
   "cell_type": "code",
   "execution_count": 2,
   "metadata": {},
   "outputs": [
    {
     "data": {
      "text/plain": [
       "0"
      ]
     },
     "execution_count": 2,
     "metadata": {},
     "output_type": "execute_result"
    }
   ],
   "source": [
    "# Convert to html\n",
    "from subprocess import call\n",
    "call(['python', '-m', 'nbconvert', 'act_report.ipynb'])"
   ]
  },
  {
   "cell_type": "code",
   "execution_count": null,
   "metadata": {},
   "outputs": [],
   "source": []
  },
  {
   "cell_type": "code",
   "execution_count": null,
   "metadata": {},
   "outputs": [],
   "source": []
  }
 ],
 "metadata": {
  "kernelspec": {
   "display_name": "Python 3",
   "language": "python",
   "name": "python3"
  },
  "language_info": {
   "codemirror_mode": {
    "name": "ipython",
    "version": 3
   },
   "file_extension": ".py",
   "mimetype": "text/x-python",
   "name": "python",
   "nbconvert_exporter": "python",
   "pygments_lexer": "ipython3",
   "version": "3.6.3"
  }
 },
 "nbformat": 4,
 "nbformat_minor": 2
}
